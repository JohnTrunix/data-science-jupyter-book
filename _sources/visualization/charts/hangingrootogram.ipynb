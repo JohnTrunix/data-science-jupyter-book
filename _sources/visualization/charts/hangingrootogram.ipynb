{
 "cells": [
  {
   "cell_type": "markdown",
   "metadata": {},
   "source": [
    "# Hanging Rootogram Chart\n",
    "\n",
    "````{card}\n",
    "\n",
    "<br/>\n",
    "\n",
    "::::{grid} 2\n",
    "\n",
    ":::{grid-item}\n",
    ":columns: 3\n",
    ":class: sd-m-auto\n",
    "<img src=\"../images/hangingrootogram.png\" width=\"300px\"/>\n",
    "\n",
    ":::\n",
    "\n",
    ":::{grid-item}\n",
    ":columns: 8\n",
    "Also called: Tukey's hanging rootogram\n",
    "\n",
    "Comparing the distribution of data with a theoretical distribution from an ordinary histogram can be difficult because small frequencies are dominated by the larger frequencies and it is hard to perceive the pattern of differences between the histogram bars and the curve. In this visualization the comparison is made easier by ‘hanging’ the observed results from the theoretical curve, so that the discrepancies are seen by comparison with the horizontal axis rather than a sloping curve. As in the rootogram, the vertical axis is scaled to the square-root of the frequencies so as to draw attention to discrepancies in the tails of the distribution. It is a variation of the concept of histograms and Pareto charts by combining observed and predicted in a simple way where the line charts display that the data is continuously changing.\n",
    "\n",
    "<br/>\n",
    "\n",
    "Functions:\n",
    "\n",
    "{bdg-info-line}`Comparison` {bdg-info-line}`Distribution` {bdg-info-line}`Trend over time` \n",
    "\n",
    ":::\n",
    "::::\n",
    "\n",
    "+++\n",
    "\n",
    "Credits: \n",
    "[DataVizProject](https://datavizproject.com/about/)\n",
    "\n",
    "````"
   ]
  },
  {
   "cell_type": "code",
   "execution_count": 35,
   "metadata": {},
   "outputs": [],
   "source": [
    "import matplotlib as mpl\n",
    "import matplotlib.pyplot as plt\n",
    "import pandas as pd\n",
    "import numpy as np\n",
    "from scipy.stats import norm"
   ]
  },
  {
   "cell_type": "code",
   "execution_count": 36,
   "metadata": {},
   "outputs": [
    {
     "data": {
      "text/html": [
       "<div>\n",
       "<style scoped>\n",
       "    .dataframe tbody tr th:only-of-type {\n",
       "        vertical-align: middle;\n",
       "    }\n",
       "\n",
       "    .dataframe tbody tr th {\n",
       "        vertical-align: top;\n",
       "    }\n",
       "\n",
       "    .dataframe thead th {\n",
       "        text-align: right;\n",
       "    }\n",
       "</style>\n",
       "<table border=\"1\" class=\"dataframe\">\n",
       "  <thead>\n",
       "    <tr style=\"text-align: right;\">\n",
       "      <th></th>\n",
       "      <th>data</th>\n",
       "    </tr>\n",
       "  </thead>\n",
       "  <tbody>\n",
       "    <tr>\n",
       "      <th>0</th>\n",
       "      <td>9.933837</td>\n",
       "    </tr>\n",
       "    <tr>\n",
       "      <th>1</th>\n",
       "      <td>9.470963</td>\n",
       "    </tr>\n",
       "    <tr>\n",
       "      <th>2</th>\n",
       "      <td>9.796342</td>\n",
       "    </tr>\n",
       "    <tr>\n",
       "      <th>3</th>\n",
       "      <td>10.471746</td>\n",
       "    </tr>\n",
       "    <tr>\n",
       "      <th>4</th>\n",
       "      <td>10.140262</td>\n",
       "    </tr>\n",
       "  </tbody>\n",
       "</table>\n",
       "</div>"
      ],
      "text/plain": [
       "        data\n",
       "0   9.933837\n",
       "1   9.470963\n",
       "2   9.796342\n",
       "3  10.471746\n",
       "4  10.140262"
      ]
     },
     "execution_count": 36,
     "metadata": {},
     "output_type": "execute_result"
    }
   ],
   "source": [
    "mu = 10\n",
    "sig = 0.3\n",
    "df = pd.DataFrame(np.random.normal(mu, sig, 200), columns=['data'])\n",
    "x = np.linspace(9, 11, 100)\n",
    "df.head()"
   ]
  },
  {
   "cell_type": "code",
   "execution_count": 37,
   "metadata": {},
   "outputs": [
    {
     "data": {
      "image/png": "[encoded data removed]",
      "text/plain": [
       "<Figure size 864x432 with 1 Axes>"
      ]
     },
     "metadata": {},
     "output_type": "display_data"
    }
   ],
   "source": [
    "mpl.style.use('seaborn')\n",
    "fig, ax = plt.subplots(figsize=(12, 6))\n",
    "\n",
    "ax.hist(df['data'], density=True, color='#829CBC', alpha=0.8)\n",
    "ax.plot(x, norm.pdf(x, mu, sig), color='#FBD87F')\n",
    "ax.set_ylim(-0.2)\n",
    "ax.set_xlim(9, 11)\n",
    "ax.hlines(0, 9, 11, linestyle='--', color='#023E7D')\n",
    "\n",
    "for rectangle in ax.patches:\n",
    "    exp = norm.pdf(rectangle.get_x() + rectangle.get_width()/2., mu, sig)\n",
    "    diff = exp - rectangle.get_height()\n",
    "    rectangle.set_y(diff)\n",
    "    ax.plot(rectangle.get_x() + rectangle.get_width()/2., exp, marker='o', color='#F8C23A')\n",
    "\n",
    "\n",
    "plt.show()"
   ]
  }
 ],
 "metadata": {
  "kernelspec": {
   "display_name": "Python 3.10.5 64-bit",
   "language": "python",
   "name": "python3"
  },
  "language_info": {
   "codemirror_mode": {
    "name": "ipython",
    "version": 3
   },
   "file_extension": ".py",
   "mimetype": "text/x-python",
   "name": "python",
   "nbconvert_exporter": "python",
   "pygments_lexer": "ipython3",
   "version": "3.10.5"
  },
  "orig_nbformat": 4,
  "vscode": {
   "interpreter": {
    "hash": "11e2bb734e6fee9d8d9f4d1a4352021d7e0594fadaa78ad10ec5b9be22149d46"
   }
  }
 },
 "nbformat": 4,
 "nbformat_minor": 2
}
