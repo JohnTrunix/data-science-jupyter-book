{
 "cells": [
  {
   "cell_type": "markdown",
   "metadata": {},
   "source": [
    "# Bar Chart (candlestick)\n",
    "\n",
    "````{card}\n",
    "\n",
    "<br/>\n",
    "\n",
    "::::{grid} 2\n",
    "\n",
    ":::{grid-item}\n",
    ":columns: 3\n",
    ":class: sd-m-auto\n",
    "<img src=\"../images/candlestickbar.png\" width=\"300px\"/>\n",
    "\n",
    ":::\n",
    "\n",
    ":::{grid-item}\n",
    ":columns: 8\n",
    "Also called: Japanese candlestick chart\n",
    "\n",
    "A candlestick chart is a style of bar-chart used to describe price movements of a security, derivative, or currency for a designated span of time. Each bar represents the range of price movement over a given time interval. It is most often used in technical analysis of equity and currency price patterns. They appear superficially similar to box plots, but are unrelated. The dataset for a candlestick chart contains low, high, open and close values. The high and low values are visualized as the top and bottom of each stick, where the open and close values are reflected in the square inside.\n",
    "\n",
    "<br/>\n",
    "\n",
    "Functions:\n",
    "\n",
    "{bdg-info-line}`Comparison` {bdg-info-line}`Trend over time`\n",
    "\n",
    ":::\n",
    "::::\n",
    "\n",
    "+++\n",
    "\n",
    "Credits: \n",
    "[DataVizProject](https://datavizproject.com/about/)\n",
    "\n",
    "````"
   ]
  },
  {
   "cell_type": "code",
   "execution_count": 12,
   "metadata": {},
   "outputs": [],
   "source": [
    "import matplotlib as mpl\n",
    "import matplotlib.pyplot as plt\n",
    "import mplfinance as mpf\n",
    "import pandas as pd"
   ]
  },
  {
   "cell_type": "code",
   "execution_count": 13,
   "metadata": {},
   "outputs": [
    {
     "data": {
      "text/html": [
       "<div>\n",
       "<style scoped>\n",
       "    .dataframe tbody tr th:only-of-type {\n",
       "        vertical-align: middle;\n",
       "    }\n",
       "\n",
       "    .dataframe tbody tr th {\n",
       "        vertical-align: top;\n",
       "    }\n",
       "\n",
       "    .dataframe thead th {\n",
       "        text-align: right;\n",
       "    }\n",
       "</style>\n",
       "<table border=\"1\" class=\"dataframe\">\n",
       "  <thead>\n",
       "    <tr style=\"text-align: right;\">\n",
       "      <th></th>\n",
       "      <th>open</th>\n",
       "      <th>close</th>\n",
       "      <th>high</th>\n",
       "      <th>low</th>\n",
       "    </tr>\n",
       "  </thead>\n",
       "  <tbody>\n",
       "    <tr>\n",
       "      <th>2021-01-01</th>\n",
       "      <td>25</td>\n",
       "      <td>24</td>\n",
       "      <td>28</td>\n",
       "      <td>22</td>\n",
       "    </tr>\n",
       "    <tr>\n",
       "      <th>2021-01-02</th>\n",
       "      <td>22</td>\n",
       "      <td>20</td>\n",
       "      <td>27</td>\n",
       "      <td>16</td>\n",
       "    </tr>\n",
       "    <tr>\n",
       "      <th>2021-01-03</th>\n",
       "      <td>21</td>\n",
       "      <td>17</td>\n",
       "      <td>29</td>\n",
       "      <td>14</td>\n",
       "    </tr>\n",
       "    <tr>\n",
       "      <th>2021-01-04</th>\n",
       "      <td>19</td>\n",
       "      <td>23</td>\n",
       "      <td>25</td>\n",
       "      <td>17</td>\n",
       "    </tr>\n",
       "    <tr>\n",
       "      <th>2021-01-05</th>\n",
       "      <td>23</td>\n",
       "      <td>22</td>\n",
       "      <td>24</td>\n",
       "      <td>19</td>\n",
       "    </tr>\n",
       "  </tbody>\n",
       "</table>\n",
       "</div>"
      ],
      "text/plain": [
       "            open  close  high  low\n",
       "2021-01-01    25     24    28   22\n",
       "2021-01-02    22     20    27   16\n",
       "2021-01-03    21     17    29   14\n",
       "2021-01-04    19     23    25   17\n",
       "2021-01-05    23     22    24   19"
      ]
     },
     "execution_count": 13,
     "metadata": {},
     "output_type": "execute_result"
    }
   ],
   "source": [
    "df = pd.DataFrame({'open': [25, 22, 21, 19, 23, 21, 25, 29],\n",
    "                       'close': [24, 20, 17, 23, 22, 25, 29, 31],\n",
    "                       'high': [28, 27, 29, 25, 24, 26, 31, 37],\n",
    "                       'low': [22, 16, 14, 17, 19, 18, 22, 26]},\n",
    "                       index=pd.date_range('2021-01-01', periods=8, freq='d'))\n",
    "df.head()"
   ]
  },
  {
   "cell_type": "code",
   "execution_count": 14,
   "metadata": {},
   "outputs": [
    {
     "data": {
      "text/plain": [
       "<Figure size 1200x800 with 0 Axes>"
      ]
     },
     "metadata": {},
     "output_type": "display_data"
    },
    {
     "data": {
      "image/png": "[encoded data removed]",
      "text/plain": [
       "<Figure size 800x575 with 2 Axes>"
      ]
     },
     "metadata": {},
     "output_type": "display_data"
    }
   ],
   "source": [
    "colors = ['#002855', '#023E7D', '#376996', '#829CBC', '#FBD87F', '#F8C23A', '#002855', '#023E7D']\n",
    "plt.figure(figsize=(12, 8))\n",
    "mpf.plot(df, type='candle', marketcolor_overrides=colors)\n",
    "plt.show()"
   ]
  }
 ],
 "metadata": {
  "kernelspec": {
   "display_name": "Python 3.10.5 64-bit",
   "language": "python",
   "name": "python3"
  },
  "language_info": {
   "codemirror_mode": {
    "name": "ipython",
    "version": 3
   },
   "file_extension": ".py",
   "mimetype": "text/x-python",
   "name": "python",
   "nbconvert_exporter": "python",
   "pygments_lexer": "ipython3",
   "version": "3.10.5"
  },
  "orig_nbformat": 4,
  "vscode": {
   "interpreter": {
    "hash": "11e2bb734e6fee9d8d9f4d1a4352021d7e0594fadaa78ad10ec5b9be22149d46"
   }
  }
 },
 "nbformat": 4,
 "nbformat_minor": 2
}
