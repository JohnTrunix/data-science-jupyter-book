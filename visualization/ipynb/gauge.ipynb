{
 "cells": [
  {
   "cell_type": "markdown",
   "metadata": {},
   "source": [
    "# Gauge Chart\n",
    "\n",
    "````{card}\n",
    "\n",
    "<br/>\n",
    "\n",
    "::::{grid} 2\n",
    "\n",
    ":::{grid-item}\n",
    ":columns: 3\n",
    ":class: sd-m-auto\n",
    "<img src=\"../images/gauge.png\" width=\"300px\"/>\n",
    "\n",
    ":::\n",
    "\n",
    ":::{grid-item}\n",
    ":columns: 8\n",
    "Also called: Semi Circle Donut Chart\n",
    "\n",
    "Gauge Chart is simply a Donut Chart cut in half. The elements are still divided into sectors, illustrating numerical proportion like a basic pie or donut chart.\n",
    "\n",
    "<br/>\n",
    "\n",
    "Functions:\n",
    "\n",
    "{bdg-info-line}`Comparison`\n",
    "\n",
    ":::\n",
    "::::\n",
    "\n",
    "+++\n",
    "\n",
    "Credits: \n",
    "[DataVizProject](https://datavizproject.com/about/)\n",
    "\n",
    "````"
   ]
  },
  {
   "cell_type": "code",
   "execution_count": 7,
   "metadata": {},
   "outputs": [],
   "source": [
    "import matplotlib as mpl\n",
    "import matplotlib.pyplot as plt\n",
    "import pandas as pd"
   ]
  },
  {
   "cell_type": "code",
   "execution_count": 8,
   "metadata": {},
   "outputs": [
    {
     "data": {
      "text/html": [
       "<div>\n",
       "<style scoped>\n",
       "    .dataframe tbody tr th:only-of-type {\n",
       "        vertical-align: middle;\n",
       "    }\n",
       "\n",
       "    .dataframe tbody tr th {\n",
       "        vertical-align: top;\n",
       "    }\n",
       "\n",
       "    .dataframe thead th {\n",
       "        text-align: right;\n",
       "    }\n",
       "</style>\n",
       "<table border=\"1\" class=\"dataframe\">\n",
       "  <thead>\n",
       "    <tr style=\"text-align: right;\">\n",
       "      <th></th>\n",
       "      <th>Group</th>\n",
       "      <th>Value</th>\n",
       "    </tr>\n",
       "  </thead>\n",
       "  <tbody>\n",
       "    <tr>\n",
       "      <th>0</th>\n",
       "      <td>A</td>\n",
       "      <td>150</td>\n",
       "    </tr>\n",
       "    <tr>\n",
       "      <th>1</th>\n",
       "      <td>B</td>\n",
       "      <td>300</td>\n",
       "    </tr>\n",
       "    <tr>\n",
       "      <th>2</th>\n",
       "      <td>C</td>\n",
       "      <td>220</td>\n",
       "    </tr>\n",
       "    <tr>\n",
       "      <th>3</th>\n",
       "      <td>D</td>\n",
       "      <td>100</td>\n",
       "    </tr>\n",
       "    <tr>\n",
       "      <th>0</th>\n",
       "      <td></td>\n",
       "      <td>770</td>\n",
       "    </tr>\n",
       "  </tbody>\n",
       "</table>\n",
       "</div>"
      ],
      "text/plain": [
       "  Group  Value\n",
       "0     A    150\n",
       "1     B    300\n",
       "2     C    220\n",
       "3     D    100\n",
       "0          770"
      ]
     },
     "execution_count": 8,
     "metadata": {},
     "output_type": "execute_result"
    }
   ],
   "source": [
    "data = {'Group': ['A', 'B', 'C', 'D'],\n",
    "        'Value': [150, 300, 220, 100]}\n",
    "df = pd.DataFrame(data, columns=['Group', 'Value'])\n",
    "total = pd.DataFrame({'Group': [''], 'Value': [df['Value'].sum()]})\n",
    "df = pd.concat([df, total])\n",
    "df.head()"
   ]
  },
  {
   "cell_type": "code",
   "execution_count": 9,
   "metadata": {},
   "outputs": [
    {
     "data": {
      "image/png": "[encoded data removed]",
      "text/plain": [
       "<Figure size 576x432 with 1 Axes>"
      ]
     },
     "metadata": {},
     "output_type": "display_data"
    }
   ],
   "source": [
    "mpl.style.use('seaborn')\n",
    "colors = ['#002855', '#FBD87F', '#023E7D', '#376996', 'white']\n",
    "fig = plt.figure(figsize=(8,6))\n",
    "ax = fig.add_subplot(1,1,1)\n",
    "\n",
    "ax.pie(df.Value, labels=df.Group, colors=colors)\n",
    "ax.add_artist(plt.Circle((0, 0), 0.6, color='white'))\n",
    "plt.show()"
   ]
  }
 ],
 "metadata": {
  "kernelspec": {
   "display_name": "Python 3.10.5 64-bit",
   "language": "python",
   "name": "python3"
  },
  "language_info": {
   "codemirror_mode": {
    "name": "ipython",
    "version": 3
   },
   "file_extension": ".py",
   "mimetype": "text/x-python",
   "name": "python",
   "nbconvert_exporter": "python",
   "pygments_lexer": "ipython3",
   "version": "3.10.5"
  },
  "orig_nbformat": 4,
  "vscode": {
   "interpreter": {
    "hash": "11e2bb734e6fee9d8d9f4d1a4352021d7e0594fadaa78ad10ec5b9be22149d46"
   }
  }
 },
 "nbformat": 4,
 "nbformat_minor": 2
}
