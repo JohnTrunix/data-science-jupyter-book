{
 "cells": [
  {
   "cell_type": "markdown",
   "metadata": {},
   "source": [
    "# Pareto Chart\n",
    "\n",
    "````{card}\n",
    "\n",
    "<br/>\n",
    "\n",
    "::::{grid} 2\n",
    "\n",
    ":::{grid-item}\n",
    ":columns: 3\n",
    ":class: sd-m-auto\n",
    "<img src=\"../images/pareto.png\" width=\"300px\"/>\n",
    "\n",
    ":::\n",
    "\n",
    ":::{grid-item}\n",
    ":columns: 8\n",
    "A Pareto chart is a type of chart that contains both bars and a line graph, where individual values are represented in descending order by bars, and the cumulative total is represented by the line. The purpose of the Pareto chart is to highlight the most important among a (typically large) set of factors.\n",
    "\n",
    "<br/>\n",
    "\n",
    "Functions:\n",
    "\n",
    "{bdg-info-line}`Comparison` {bdg-info-line}`Distribution`\n",
    "\n",
    ":::\n",
    "::::\n",
    "\n",
    "+++\n",
    "\n",
    "Credits: \n",
    "[DataVizProject](https://datavizproject.com/about/)\n",
    "\n",
    "````"
   ]
  },
  {
   "cell_type": "code",
   "execution_count": 15,
   "metadata": {},
   "outputs": [],
   "source": [
    "import matplotlib as mpl\n",
    "import matplotlib.pyplot as plt\n",
    "from matplotlib.ticker import PercentFormatter\n",
    "import pandas as pd"
   ]
  },
  {
   "cell_type": "code",
   "execution_count": 16,
   "metadata": {},
   "outputs": [
    {
     "data": {
      "text/html": [
       "<div>\n",
       "<style scoped>\n",
       "    .dataframe tbody tr th:only-of-type {\n",
       "        vertical-align: middle;\n",
       "    }\n",
       "\n",
       "    .dataframe tbody tr th {\n",
       "        vertical-align: top;\n",
       "    }\n",
       "\n",
       "    .dataframe thead th {\n",
       "        text-align: right;\n",
       "    }\n",
       "</style>\n",
       "<table border=\"1\" class=\"dataframe\">\n",
       "  <thead>\n",
       "    <tr style=\"text-align: right;\">\n",
       "      <th></th>\n",
       "      <th>count</th>\n",
       "      <th>cumperc</th>\n",
       "    </tr>\n",
       "  </thead>\n",
       "  <tbody>\n",
       "    <tr>\n",
       "      <th>A</th>\n",
       "      <td>140</td>\n",
       "      <td>40.000000</td>\n",
       "    </tr>\n",
       "    <tr>\n",
       "      <th>B</th>\n",
       "      <td>97</td>\n",
       "      <td>67.714286</td>\n",
       "    </tr>\n",
       "    <tr>\n",
       "      <th>C</th>\n",
       "      <td>58</td>\n",
       "      <td>84.285714</td>\n",
       "    </tr>\n",
       "    <tr>\n",
       "      <th>D</th>\n",
       "      <td>32</td>\n",
       "      <td>93.428571</td>\n",
       "    </tr>\n",
       "    <tr>\n",
       "      <th>E</th>\n",
       "      <td>17</td>\n",
       "      <td>98.285714</td>\n",
       "    </tr>\n",
       "    <tr>\n",
       "      <th>F</th>\n",
       "      <td>6</td>\n",
       "      <td>100.000000</td>\n",
       "    </tr>\n",
       "  </tbody>\n",
       "</table>\n",
       "</div>"
      ],
      "text/plain": [
       "   count     cumperc\n",
       "A    140   40.000000\n",
       "B     97   67.714286\n",
       "C     58   84.285714\n",
       "D     32   93.428571\n",
       "E     17   98.285714\n",
       "F      6  100.000000"
      ]
     },
     "execution_count": 16,
     "metadata": {},
     "output_type": "execute_result"
    }
   ],
   "source": [
    "df = pd.DataFrame({'count': [97, 140, 58, 6, 17, 32]})\n",
    "df.index = ['B', 'A', 'C', 'F', 'E', 'D']\n",
    "df = df.sort_values(by='count', ascending=False)\n",
    "df['cumperc'] = df['count'].cumsum()/df['count'].sum()*100\n",
    "df"
   ]
  },
  {
   "cell_type": "code",
   "execution_count": 17,
   "metadata": {},
   "outputs": [
    {
     "data": {
      "image/png": "[encoded data removed]",
      "text/plain": [
       "<Figure size 720x432 with 2 Axes>"
      ]
     },
     "metadata": {},
     "output_type": "display_data"
    }
   ],
   "source": [
    "colors = ['#002855', '#023E7D', '#376996', '#829CBC', '#FBD87F', '#F8C23A']\n",
    "\n",
    "fig, ax = plt.subplots(figsize=(10, 6))\n",
    "fig.patch.set_facecolor('white')\n",
    "ax.bar(df.index, df['count'], color=colors)\n",
    "ax2 = ax.twinx()\n",
    "ax2.plot(df.index, df['cumperc'], color='#F8C23A', marker=\"o\")\n",
    "ax2.yaxis.set_major_formatter(PercentFormatter())\n",
    "ax.tick_params(axis='y')\n",
    "ax2.tick_params(axis='y', colors='#F8C23A')\n",
    "plt.show()"
   ]
  }
 ],
 "metadata": {
  "kernelspec": {
   "display_name": "Python 3.10.5 64-bit",
   "language": "python",
   "name": "python3"
  },
  "language_info": {
   "codemirror_mode": {
    "name": "ipython",
    "version": 3
   },
   "file_extension": ".py",
   "mimetype": "text/x-python",
   "name": "python",
   "nbconvert_exporter": "python",
   "pygments_lexer": "ipython3",
   "version": "3.10.5"
  },
  "orig_nbformat": 4,
  "vscode": {
   "interpreter": {
    "hash": "11e2bb734e6fee9d8d9f4d1a4352021d7e0594fadaa78ad10ec5b9be22149d46"
   }
  }
 },
 "nbformat": 4,
 "nbformat_minor": 2
}
